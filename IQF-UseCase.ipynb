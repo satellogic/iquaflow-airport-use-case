{
 "cells": [
  {
   "cell_type": "markdown",
   "metadata": {},
   "source": [
    "# Experiment Setup\n",
    "\n",
    "1. Define name of IQF experiment\n",
    "1. Define path of the original(reference) dataset\n",
    "1. Define path of the training script\n",
    "1. DS_wrapper is the class that encapsulate a dataset\n",
    "1. Define the list of modifications that will be applyed to the original dataset."
   ]
  },
  {
   "cell_type": "code",
   "execution_count": null,
   "metadata": {},
   "outputs": [],
   "source": [
    "import os\n",
    "\n",
    "from iq_tool_box.datasets import DSModifier, DSWrapper,DSModifier_jpg\n",
    "from iq_tool_box.experiments import ExperimentInfo, ExperimentSetup\n",
    "from iq_tool_box.experiments.experiment_visual import ExperimentVisual\n",
    "from iq_tool_box.experiments.task_execution import PythonScriptTaskExecution\n",
    "from iq_tool_box.metrics import BBDetectionMetrics"
   ]
  },
  {
   "cell_type": "code",
   "execution_count": 1,
   "metadata": {},
   "outputs": [],
   "source": [
    "#Define name of IQF experiment\n",
    "experiment_name = \"airplane\"\n",
    "\n",
    "#DS wrapper is the class that encapsulate a dataset\n",
    "ref_dsw_train = DSWrapper(data_path=\"datasets/train\")\n",
    "\n",
    "#DS wrapper is the class that encapsulate a dataset\n",
    "ref_dsw_val = DSWrapper(data_path=\"datasets/validation\")"
   ]
  },
  {
   "cell_type": "markdown",
   "metadata": {},
   "source": [
    " * DSModifier refers to a modifier that simply does nothing - Reference training\n",
    " * DSModifier_jpg apply JPG compresion to the dataset"
   ]
  },
  {
   "cell_type": "code",
   "execution_count": null,
   "metadata": {},
   "outputs": [],
   "source": [
    "#List of modifications that will be applied to the original dataset:\n",
    "ds_modifiers_list = [\n",
    "    DSModifier_jpg(params={'quality': i})\n",
    "    for i in [10,30,50,70,90]\n",
    "]\n",
    "\n",
    "# Task execution executes the training loop\n",
    "task = PythonScriptTaskExecution(model_script_path = 'yolov5/train.py')"
   ]
  },
  {
   "cell_type": "markdown",
   "metadata": {},
   "source": [
    "Experiment definition, pass as arguments all the components defined beforehand:"
   ]
  },
  {
   "cell_type": "code",
   "execution_count": null,
   "metadata": {},
   "outputs": [],
   "source": [
    "#Experiment definition, pass as arguments all the components defined beforehand\n",
    "experiment = ExperimentSetup(\n",
    "    experiment_name   = experiment_name,\n",
    "    task_instance     = task,\n",
    "    ref_dsw_train     = ref_dsw_train,\n",
    "    ref_dsw_val       = ref_dsw_val,\n",
    "    ds_modifiers_list = ds_modifiers_list,\n",
    "    repetitions=5,\n",
    "    extra_params: {\"weights\":['yolov5s.pt']}\n",
    ")"
   ]
  },
  {
   "cell_type": "markdown",
   "metadata": {},
   "source": [
    "# Execution"
   ]
  },
  {
   "cell_type": "code",
   "execution_count": null,
   "metadata": {},
   "outputs": [],
   "source": [
    "#Execute the experiment\n",
    "experiment.execute()"
   ]
  },
  {
   "cell_type": "markdown",
   "metadata": {},
   "source": [
    "# Pick-up results / metrics and plot"
   ]
  },
  {
   "cell_type": "markdown",
   "metadata": {},
   "source": [
    " * Define name of IQF experiment\n",
    " * Define path of the original(reference) dataset"
   ]
  },
  {
   "cell_type": "code",
   "execution_count": 1,
   "metadata": {
    "scrolled": true
   },
   "outputs": [],
   "source": [
    "#Define name of IQF experiment\n",
    "experiment_name = \"airplane\""
   ]
  },
  {
   "cell_type": "markdown",
   "metadata": {},
   "source": [
    "## Load experiment info\n",
    " - ExperimentInfo is used to retrieve all the information of the whole experiment. \n",
    " - It contains built in operations but also it can be used to retrieve raw data for futher analysis\n",
    " - The get_df method will sort data in a dataframe suitable for the visualizations"
   ]
  },
  {
   "cell_type": "code",
   "execution_count": 2,
   "metadata": {},
   "outputs": [],
   "source": [
    "experiment_info = ExperimentInfo(experiment_name)\n",
    "\n",
    "df = experiment_info.get_df(\n",
    "    ds_params=[\"modifier\"],\n",
    "    metrics=[\"ap\",'ap_0.5_all','weights','quality'],\n",
    "    dropna = True,\n",
    "    fields_to_float_lst = ['ap','ap_0.5_all'],\n",
    "    fields_to_int_lst = ['quality']\n",
    ")"
   ]
  },
  {
   "cell_type": "code",
   "execution_count": 3,
   "metadata": {},
   "outputs": [
    {
     "data": {
      "text/html": [
       "<div>\n",
       "<style scoped>\n",
       "    .dataframe tbody tr th:only-of-type {\n",
       "        vertical-align: middle;\n",
       "    }\n",
       "\n",
       "    .dataframe tbody tr th {\n",
       "        vertical-align: top;\n",
       "    }\n",
       "\n",
       "    .dataframe thead th {\n",
       "        text-align: right;\n",
       "    }\n",
       "</style>\n",
       "<table border=\"1\" class=\"dataframe\">\n",
       "  <thead>\n",
       "    <tr style=\"text-align: right;\">\n",
       "      <th></th>\n",
       "      <th>name</th>\n",
       "      <th>ds_modifier</th>\n",
       "      <th>ap</th>\n",
       "      <th>ap_0.5_all</th>\n",
       "      <th>min_plane_size</th>\n",
       "      <th>quality</th>\n",
       "    </tr>\n",
       "  </thead>\n",
       "  <tbody>\n",
       "    <tr>\n",
       "      <th>0</th>\n",
       "      <td>SateAirports#jpg90_modifier</td>\n",
       "      <td>jpg90_modifier</td>\n",
       "      <td>0.936575</td>\n",
       "      <td>0.043528</td>\n",
       "      <td>30</td>\n",
       "      <td>90</td>\n",
       "    </tr>\n",
       "    <tr>\n",
       "      <th>1</th>\n",
       "      <td>SateAirports#jpg90_modifier_0</td>\n",
       "      <td>jpg90_modifier</td>\n",
       "      <td>0.887237</td>\n",
       "      <td>0.046832</td>\n",
       "      <td>30</td>\n",
       "      <td>90</td>\n",
       "    </tr>\n",
       "    <tr>\n",
       "      <th>2</th>\n",
       "      <td>SateAirports#jpg90_modifier_1</td>\n",
       "      <td>jpg90_modifier</td>\n",
       "      <td>0.874783</td>\n",
       "      <td>0.043926</td>\n",
       "      <td>30</td>\n",
       "      <td>90</td>\n",
       "    </tr>\n",
       "    <tr>\n",
       "      <th>3</th>\n",
       "      <td>SateAirports#jpg90_modifier_2</td>\n",
       "      <td>jpg90_modifier</td>\n",
       "      <td>0.879351</td>\n",
       "      <td>0.048211</td>\n",
       "      <td>30</td>\n",
       "      <td>90</td>\n",
       "    </tr>\n",
       "    <tr>\n",
       "      <th>4</th>\n",
       "      <td>SateAirports#jpg90_modifier_3</td>\n",
       "      <td>jpg90_modifier</td>\n",
       "      <td>0.888975</td>\n",
       "      <td>0.046086</td>\n",
       "      <td>30</td>\n",
       "      <td>90</td>\n",
       "    </tr>\n",
       "    <tr>\n",
       "      <th>...</th>\n",
       "      <td>...</td>\n",
       "      <td>...</td>\n",
       "      <td>...</td>\n",
       "      <td>...</td>\n",
       "      <td>...</td>\n",
       "      <td>...</td>\n",
       "    </tr>\n",
       "    <tr>\n",
       "      <th>95</th>\n",
       "      <td>SateAirports#jpg10_modifier_14</td>\n",
       "      <td>jpg10_modifier</td>\n",
       "      <td>0.520094</td>\n",
       "      <td>0.040593</td>\n",
       "      <td>11</td>\n",
       "      <td>10</td>\n",
       "    </tr>\n",
       "    <tr>\n",
       "      <th>96</th>\n",
       "      <td>SateAirports#jpg10_modifier_15</td>\n",
       "      <td>jpg10_modifier</td>\n",
       "      <td>0.507094</td>\n",
       "      <td>0.043096</td>\n",
       "      <td>11</td>\n",
       "      <td>10</td>\n",
       "    </tr>\n",
       "    <tr>\n",
       "      <th>97</th>\n",
       "      <td>SateAirports#jpg10_modifier_16</td>\n",
       "      <td>jpg10_modifier</td>\n",
       "      <td>0.542887</td>\n",
       "      <td>0.041962</td>\n",
       "      <td>11</td>\n",
       "      <td>10</td>\n",
       "    </tr>\n",
       "    <tr>\n",
       "      <th>98</th>\n",
       "      <td>SateAirports#jpg10_modifier_17</td>\n",
       "      <td>jpg10_modifier</td>\n",
       "      <td>0.489131</td>\n",
       "      <td>0.040315</td>\n",
       "      <td>11</td>\n",
       "      <td>10</td>\n",
       "    </tr>\n",
       "    <tr>\n",
       "      <th>99</th>\n",
       "      <td>SateAirports#jpg10_modifier_18</td>\n",
       "      <td>jpg10_modifier</td>\n",
       "      <td>0.504034</td>\n",
       "      <td>0.039628</td>\n",
       "      <td>11</td>\n",
       "      <td>10</td>\n",
       "    </tr>\n",
       "  </tbody>\n",
       "</table>\n",
       "<p>100 rows × 6 columns</p>\n",
       "</div>"
      ],
      "text/plain": [
       "                              name     ds_modifier        ap  ap_0.5_all  \\\n",
       "0      SateAirports#jpg90_modifier  jpg90_modifier  0.936575    0.043528   \n",
       "1    SateAirports#jpg90_modifier_0  jpg90_modifier  0.887237    0.046832   \n",
       "2    SateAirports#jpg90_modifier_1  jpg90_modifier  0.874783    0.043926   \n",
       "3    SateAirports#jpg90_modifier_2  jpg90_modifier  0.879351    0.048211   \n",
       "4    SateAirports#jpg90_modifier_3  jpg90_modifier  0.888975    0.046086   \n",
       "..                             ...             ...       ...         ...   \n",
       "95  SateAirports#jpg10_modifier_14  jpg10_modifier  0.520094    0.040593   \n",
       "96  SateAirports#jpg10_modifier_15  jpg10_modifier  0.507094    0.043096   \n",
       "97  SateAirports#jpg10_modifier_16  jpg10_modifier  0.542887    0.041962   \n",
       "98  SateAirports#jpg10_modifier_17  jpg10_modifier  0.489131    0.040315   \n",
       "99  SateAirports#jpg10_modifier_18  jpg10_modifier  0.504034    0.039628   \n",
       "\n",
       "    min_plane_size  quality  \n",
       "0               30       90  \n",
       "1               30       90  \n",
       "2               30       90  \n",
       "3               30       90  \n",
       "4               30       90  \n",
       "..             ...      ...  \n",
       "95              11       10  \n",
       "96              11       10  \n",
       "97              11       10  \n",
       "98              11       10  \n",
       "99              11       10  \n",
       "\n",
       "[100 rows x 6 columns]"
      ]
     },
     "execution_count": 3,
     "metadata": {},
     "output_type": "execute_result"
    }
   ],
   "source": [
    "df"
   ]
  },
  {
   "cell_type": "markdown",
   "metadata": {},
   "source": [
    "## Visualize\n",
    " - Plotting utilities are available in it_tool_box"
   ]
  },
  {
   "cell_type": "code",
   "execution_count": 4,
   "metadata": {},
   "outputs": [
    {
     "data": {
      "image/png": "[encoded data removed]",
      "text/plain": [
       "<Figure size 432x288 with 1 Axes>"
      ]
     },
     "metadata": {
      "needs_background": "light"
     },
     "output_type": "display_data"
    }
   ],
   "source": [
    "ev = ExperimentVisual(df, os.path.join(data_path, \"mod-ap.png\"))\n",
    "\n",
    "ev.visualize(\n",
    "    xvar=\"quality\",\n",
    "    yvar=\"ap\",\n",
    "    legend_var=\"weights\",\n",
    "    title=\"AP - quality\"\n",
    ")"
   ]
  },
  {
   "cell_type": "code",
   "execution_count": 5,
   "metadata": {},
   "outputs": [
    {
     "data": {
      "image/png": "[encoded data removed]",
      "text/plain": [
       "<Figure size 432x288 with 1 Axes>"
      ]
     },
     "metadata": {
      "needs_background": "light"
     },
     "output_type": "display_data"
    }
   ],
   "source": [
    "ev = ExperimentVisual(df, os.path.join(data_path, \"mod-bars.png\"))\n",
    "\n",
    "ev.visualize(\n",
    "    plot_kind=\"bars\",\n",
    "    xvar=\"ds_modifier\",\n",
    "    yvar=\"ap\",\n",
    "    legend_var=\"min_plane_size\",\n",
    "    title=\"AP - quality\"\n",
    ")"
   ]
  }
 ],
 "metadata": {
  "kernelspec": {
   "display_name": "Python 3",
   "language": "python",
   "name": "python3"
  },
  "language_info": {
   "codemirror_mode": {
    "name": "ipython",
    "version": 3
   },
   "file_extension": ".py",
   "mimetype": "text/x-python",
   "name": "python",
   "nbconvert_exporter": "python",
   "pygments_lexer": "ipython3",
   "version": "3.6.15"
  }
 },
 "nbformat": 4,
 "nbformat_minor": 4
}
